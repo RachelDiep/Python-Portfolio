{
 "cells": [
  {
   "cell_type": "code",
   "execution_count": 80,
   "id": "f213db60",
   "metadata": {},
   "outputs": [],
   "source": [
    "import pandas as pd \n",
    "import numpy as np"
   ]
  },
  {
   "cell_type": "code",
   "execution_count": 58,
   "id": "be5ffa57",
   "metadata": {
    "scrolled": true
   },
   "outputs": [
    {
     "data": {
      "text/html": [
       "<div>\n",
       "<style scoped>\n",
       "    .dataframe tbody tr th:only-of-type {\n",
       "        vertical-align: middle;\n",
       "    }\n",
       "\n",
       "    .dataframe tbody tr th {\n",
       "        vertical-align: top;\n",
       "    }\n",
       "\n",
       "    .dataframe thead th {\n",
       "        text-align: right;\n",
       "    }\n",
       "</style>\n",
       "<table border=\"1\" class=\"dataframe\">\n",
       "  <thead>\n",
       "    <tr style=\"text-align: right;\">\n",
       "      <th></th>\n",
       "      <th>Sr No</th>\n",
       "      <th>Date dd/mm/yyyy</th>\n",
       "      <th>Startup Name</th>\n",
       "      <th>Industry Vertical</th>\n",
       "      <th>SubVertical</th>\n",
       "      <th>City  Location</th>\n",
       "      <th>Investors Name</th>\n",
       "      <th>InvestmentnType</th>\n",
       "      <th>Amount in USD</th>\n",
       "      <th>Remarks</th>\n",
       "    </tr>\n",
       "  </thead>\n",
       "  <tbody>\n",
       "    <tr>\n",
       "      <th>0</th>\n",
       "      <td>1</td>\n",
       "      <td>09/01/2020</td>\n",
       "      <td>BYJU’S</td>\n",
       "      <td>E-Tech</td>\n",
       "      <td>E-learning</td>\n",
       "      <td>Bengaluru</td>\n",
       "      <td>Tiger Global Management</td>\n",
       "      <td>Private Equity Round</td>\n",
       "      <td>20,00,00,000</td>\n",
       "      <td>NaN</td>\n",
       "    </tr>\n",
       "    <tr>\n",
       "      <th>1</th>\n",
       "      <td>2</td>\n",
       "      <td>13/01/2020</td>\n",
       "      <td>Shuttl</td>\n",
       "      <td>Transportation</td>\n",
       "      <td>App based shuttle service</td>\n",
       "      <td>Gurgaon</td>\n",
       "      <td>Susquehanna Growth Equity</td>\n",
       "      <td>Series C</td>\n",
       "      <td>80,48,394</td>\n",
       "      <td>NaN</td>\n",
       "    </tr>\n",
       "    <tr>\n",
       "      <th>2</th>\n",
       "      <td>3</td>\n",
       "      <td>09/01/2020</td>\n",
       "      <td>Mamaearth</td>\n",
       "      <td>E-commerce</td>\n",
       "      <td>Retailer of baby and toddler products</td>\n",
       "      <td>Bengaluru</td>\n",
       "      <td>Sequoia Capital India</td>\n",
       "      <td>Series B</td>\n",
       "      <td>1,83,58,860</td>\n",
       "      <td>NaN</td>\n",
       "    </tr>\n",
       "    <tr>\n",
       "      <th>3</th>\n",
       "      <td>4</td>\n",
       "      <td>02/01/2020</td>\n",
       "      <td>https://www.wealthbucket.in/</td>\n",
       "      <td>FinTech</td>\n",
       "      <td>Online Investment</td>\n",
       "      <td>New Delhi</td>\n",
       "      <td>Vinod Khatumal</td>\n",
       "      <td>Pre-series A</td>\n",
       "      <td>30,00,000</td>\n",
       "      <td>NaN</td>\n",
       "    </tr>\n",
       "    <tr>\n",
       "      <th>4</th>\n",
       "      <td>5</td>\n",
       "      <td>02/01/2020</td>\n",
       "      <td>Fashor</td>\n",
       "      <td>Fashion and Apparel</td>\n",
       "      <td>Embroiled Clothes For Women</td>\n",
       "      <td>Mumbai</td>\n",
       "      <td>Sprout Venture Partners</td>\n",
       "      <td>Seed Round</td>\n",
       "      <td>18,00,000</td>\n",
       "      <td>NaN</td>\n",
       "    </tr>\n",
       "  </tbody>\n",
       "</table>\n",
       "</div>"
      ],
      "text/plain": [
       "   Sr No Date dd/mm/yyyy                  Startup Name    Industry Vertical  \\\n",
       "0      1      09/01/2020                        BYJU’S               E-Tech   \n",
       "1      2      13/01/2020                        Shuttl       Transportation   \n",
       "2      3      09/01/2020                     Mamaearth           E-commerce   \n",
       "3      4      02/01/2020  https://www.wealthbucket.in/              FinTech   \n",
       "4      5      02/01/2020                        Fashor  Fashion and Apparel   \n",
       "\n",
       "                             SubVertical City  Location  \\\n",
       "0                             E-learning      Bengaluru   \n",
       "1              App based shuttle service        Gurgaon   \n",
       "2  Retailer of baby and toddler products      Bengaluru   \n",
       "3                      Online Investment      New Delhi   \n",
       "4            Embroiled Clothes For Women         Mumbai   \n",
       "\n",
       "              Investors Name       InvestmentnType Amount in USD Remarks  \n",
       "0    Tiger Global Management  Private Equity Round  20,00,00,000     NaN  \n",
       "1  Susquehanna Growth Equity              Series C     80,48,394     NaN  \n",
       "2      Sequoia Capital India              Series B   1,83,58,860     NaN  \n",
       "3             Vinod Khatumal          Pre-series A     30,00,000     NaN  \n",
       "4    Sprout Venture Partners            Seed Round     18,00,000     NaN  "
      ]
     },
     "execution_count": 58,
     "metadata": {},
     "output_type": "execute_result"
    }
   ],
   "source": [
    "data = pd.read_csv(r'C:\\Users\\Admin\\Downloads\\dateset\\startup_funding.csv')\n",
    "data.head()"
   ]
  },
  {
   "cell_type": "markdown",
   "id": "554e5943",
   "metadata": {},
   "source": [
    "## OVERVIEW CHECK"
   ]
  },
  {
   "cell_type": "markdown",
   "id": "1ad5098b",
   "metadata": {},
   "source": [
    "### 1. Understand Data Information (column names, number of recoreds, memory usage)"
   ]
  },
  {
   "cell_type": "code",
   "execution_count": 59,
   "id": "a30efffc",
   "metadata": {},
   "outputs": [
    {
     "name": "stdout",
     "output_type": "stream",
     "text": [
      "<class 'pandas.core.frame.DataFrame'>\n",
      "RangeIndex: 3044 entries, 0 to 3043\n",
      "Data columns (total 10 columns):\n",
      " #   Column             Non-Null Count  Dtype \n",
      "---  ------             --------------  ----- \n",
      " 0   Sr No              3044 non-null   int64 \n",
      " 1   Date dd/mm/yyyy    3044 non-null   object\n",
      " 2   Startup Name       3044 non-null   object\n",
      " 3   Industry Vertical  2873 non-null   object\n",
      " 4   SubVertical        2108 non-null   object\n",
      " 5   City  Location     2864 non-null   object\n",
      " 6   Investors Name     3020 non-null   object\n",
      " 7   InvestmentnType    3040 non-null   object\n",
      " 8   Amount in USD      2084 non-null   object\n",
      " 9   Remarks            419 non-null    object\n",
      "dtypes: int64(1), object(9)\n",
      "memory usage: 237.9+ KB\n"
     ]
    }
   ],
   "source": [
    "data.info()"
   ]
  },
  {
   "cell_type": "markdown",
   "id": "069730be",
   "metadata": {},
   "source": [
    "### 2. NaN Values (how many, where are they)"
   ]
  },
  {
   "cell_type": "code",
   "execution_count": 193,
   "id": "f3d21c1f",
   "metadata": {
    "scrolled": true
   },
   "outputs": [
    {
     "name": "stdout",
     "output_type": "stream",
     "text": [
      "Percentage of Incompleness: 75.33 %\n"
     ]
    }
   ],
   "source": [
    "print('Percentage of Incompleness:', round(data.isnull().sum().sum()*100/len(data),2),'%')"
   ]
  },
  {
   "cell_type": "code",
   "execution_count": 194,
   "id": "154da468",
   "metadata": {},
   "outputs": [
    {
     "data": {
      "text/plain": [
       "<AxesSubplot:>"
      ]
     },
     "execution_count": 194,
     "metadata": {},
     "output_type": "execute_result"
    },
    {
     "data": {
      "image/png": "[encoded data removed]",
      "text/plain": [
       "<Figure size 640x480 with 2 Axes>"
      ]
     },
     "metadata": {},
     "output_type": "display_data"
    }
   ],
   "source": [
    "import seaborn as sns\n",
    "sns.heatmap(data.isnull())"
   ]
  },
  {
   "cell_type": "markdown",
   "id": "0e57670d",
   "metadata": {},
   "source": [
    "### 3. Remove Unnecessary Columns"
   ]
  },
  {
   "cell_type": "code",
   "execution_count": 60,
   "id": "b70000a3",
   "metadata": {
    "scrolled": false
   },
   "outputs": [
    {
     "data": {
      "text/html": [
       "<div>\n",
       "<style scoped>\n",
       "    .dataframe tbody tr th:only-of-type {\n",
       "        vertical-align: middle;\n",
       "    }\n",
       "\n",
       "    .dataframe tbody tr th {\n",
       "        vertical-align: top;\n",
       "    }\n",
       "\n",
       "    .dataframe thead th {\n",
       "        text-align: right;\n",
       "    }\n",
       "</style>\n",
       "<table border=\"1\" class=\"dataframe\">\n",
       "  <thead>\n",
       "    <tr style=\"text-align: right;\">\n",
       "      <th></th>\n",
       "      <th>Sr No</th>\n",
       "      <th>Date dd/mm/yyyy</th>\n",
       "      <th>Startup Name</th>\n",
       "      <th>Industry Vertical</th>\n",
       "      <th>SubVertical</th>\n",
       "      <th>City  Location</th>\n",
       "      <th>Investors Name</th>\n",
       "      <th>InvestmentnType</th>\n",
       "      <th>Amount in USD</th>\n",
       "    </tr>\n",
       "  </thead>\n",
       "  <tbody>\n",
       "    <tr>\n",
       "      <th>0</th>\n",
       "      <td>1</td>\n",
       "      <td>09/01/2020</td>\n",
       "      <td>BYJU’S</td>\n",
       "      <td>E-Tech</td>\n",
       "      <td>E-learning</td>\n",
       "      <td>Bengaluru</td>\n",
       "      <td>Tiger Global Management</td>\n",
       "      <td>Private Equity Round</td>\n",
       "      <td>20,00,00,000</td>\n",
       "    </tr>\n",
       "    <tr>\n",
       "      <th>1</th>\n",
       "      <td>2</td>\n",
       "      <td>13/01/2020</td>\n",
       "      <td>Shuttl</td>\n",
       "      <td>Transportation</td>\n",
       "      <td>App based shuttle service</td>\n",
       "      <td>Gurgaon</td>\n",
       "      <td>Susquehanna Growth Equity</td>\n",
       "      <td>Series C</td>\n",
       "      <td>80,48,394</td>\n",
       "    </tr>\n",
       "  </tbody>\n",
       "</table>\n",
       "</div>"
      ],
      "text/plain": [
       "   Sr No Date dd/mm/yyyy Startup Name Industry Vertical  \\\n",
       "0      1      09/01/2020       BYJU’S            E-Tech   \n",
       "1      2      13/01/2020       Shuttl    Transportation   \n",
       "\n",
       "                 SubVertical City  Location             Investors Name  \\\n",
       "0                 E-learning      Bengaluru    Tiger Global Management   \n",
       "1  App based shuttle service        Gurgaon  Susquehanna Growth Equity   \n",
       "\n",
       "        InvestmentnType Amount in USD  \n",
       "0  Private Equity Round  20,00,00,000  \n",
       "1              Series C     80,48,394  "
      ]
     },
     "execution_count": 60,
     "metadata": {},
     "output_type": "execute_result"
    }
   ],
   "source": [
    "#Col Remarks has all NaN values:\n",
    "data = data.drop(columns = 'Remarks')\n",
    "data.head(2)"
   ]
  },
  {
   "cell_type": "markdown",
   "id": "30df7782",
   "metadata": {},
   "source": [
    "### 4. Change Column Names"
   ]
  },
  {
   "cell_type": "code",
   "execution_count": 62,
   "id": "5db265c5",
   "metadata": {},
   "outputs": [],
   "source": [
    "data = data.rename(columns={'Date dd/mm/yyyy': 'Funding Date'})\n",
    "data = data.rename(columns={'InvestmentnType': 'Investment Type'})"
   ]
  },
  {
   "cell_type": "markdown",
   "id": "6483914e",
   "metadata": {},
   "source": [
    "# Detail Check"
   ]
  },
  {
   "cell_type": "markdown",
   "id": "4618ee85",
   "metadata": {},
   "source": [
    "### 1. Series Number Column"
   ]
  },
  {
   "cell_type": "code",
   "execution_count": 63,
   "id": "e3cae5d3",
   "metadata": {},
   "outputs": [
    {
     "data": {
      "text/plain": [
       "False"
      ]
     },
     "execution_count": 63,
     "metadata": {},
     "output_type": "execute_result"
    }
   ],
   "source": [
    "data['Sr No'].duplicated().any()\n",
    "# No Redundancy Problem in Primary Key Column"
   ]
  },
  {
   "cell_type": "markdown",
   "id": "0a978174",
   "metadata": {},
   "source": [
    "### 2. Funding Date Column"
   ]
  },
  {
   "cell_type": "markdown",
   "id": "9f076b2c",
   "metadata": {},
   "source": [
    "Incompleness Problem"
   ]
  },
  {
   "cell_type": "code",
   "execution_count": 64,
   "id": "a78205a6",
   "metadata": {},
   "outputs": [
    {
     "data": {
      "text/plain": [
       "False"
      ]
     },
     "execution_count": 64,
     "metadata": {},
     "output_type": "execute_result"
    }
   ],
   "source": [
    "data['Funding Date'].isnull().any()"
   ]
  },
  {
   "cell_type": "markdown",
   "id": "37a5151d",
   "metadata": {},
   "source": [
    "Conformaty Problem"
   ]
  },
  {
   "cell_type": "code",
   "execution_count": 65,
   "id": "188d5042",
   "metadata": {
    "scrolled": true
   },
   "outputs": [
    {
     "data": {
      "text/html": [
       "<div>\n",
       "<style scoped>\n",
       "    .dataframe tbody tr th:only-of-type {\n",
       "        vertical-align: middle;\n",
       "    }\n",
       "\n",
       "    .dataframe tbody tr th {\n",
       "        vertical-align: top;\n",
       "    }\n",
       "\n",
       "    .dataframe thead th {\n",
       "        text-align: right;\n",
       "    }\n",
       "</style>\n",
       "<table border=\"1\" class=\"dataframe\">\n",
       "  <thead>\n",
       "    <tr style=\"text-align: right;\">\n",
       "      <th></th>\n",
       "      <th>Sr No</th>\n",
       "      <th>Funding Date</th>\n",
       "      <th>Startup Name</th>\n",
       "      <th>Industry Vertical</th>\n",
       "      <th>SubVertical</th>\n",
       "      <th>City  Location</th>\n",
       "      <th>Investors Name</th>\n",
       "      <th>Investment Type</th>\n",
       "      <th>Amount in USD</th>\n",
       "    </tr>\n",
       "  </thead>\n",
       "  <tbody>\n",
       "    <tr>\n",
       "      <th>192</th>\n",
       "      <td>193</td>\n",
       "      <td>05/072018</td>\n",
       "      <td>Loan Tap</td>\n",
       "      <td>Consumer Internet</td>\n",
       "      <td>Online Lending Platform For Salaried Professio...</td>\n",
       "      <td>Mumbai</td>\n",
       "      <td>Shunwei Capital, Tuscan Ventures, Ashish Goenk...</td>\n",
       "      <td>Private Equity</td>\n",
       "      <td>62,50,000</td>\n",
       "    </tr>\n",
       "    <tr>\n",
       "      <th>2571</th>\n",
       "      <td>2572</td>\n",
       "      <td>01/07/015</td>\n",
       "      <td>HandyHome</td>\n",
       "      <td>Hyperlocal Electronics repair Service</td>\n",
       "      <td>NaN</td>\n",
       "      <td>Mumbai</td>\n",
       "      <td>Bessemer Ventures, Kae Capital</td>\n",
       "      <td>Seed Funding</td>\n",
       "      <td>6,30,000</td>\n",
       "    </tr>\n",
       "    <tr>\n",
       "      <th>2606</th>\n",
       "      <td>2607</td>\n",
       "      <td>\\\\xc2\\\\xa010/7/2015</td>\n",
       "      <td>\\\\xc2\\\\xa0Infinity Assurance</td>\n",
       "      <td>\\\\xc2\\\\xa0Warranty Programs Service Administra...</td>\n",
       "      <td>NaN</td>\n",
       "      <td>\\\\xc2\\\\xa0New Delhi</td>\n",
       "      <td>\\\\xc2\\\\xa0Indian Angel Network</td>\n",
       "      <td>Seed Funding</td>\n",
       "      <td>\\\\xc2\\\\xa0600,000</td>\n",
       "    </tr>\n",
       "    <tr>\n",
       "      <th>2775</th>\n",
       "      <td>2776</td>\n",
       "      <td>12/05.2015</td>\n",
       "      <td>Mobiefit</td>\n",
       "      <td>Mobile Fitness App</td>\n",
       "      <td>NaN</td>\n",
       "      <td>Goa</td>\n",
       "      <td>Prototyze</td>\n",
       "      <td>Seed Funding</td>\n",
       "      <td>NaN</td>\n",
       "    </tr>\n",
       "    <tr>\n",
       "      <th>2776</th>\n",
       "      <td>2777</td>\n",
       "      <td>12/05.2015</td>\n",
       "      <td>Plancess</td>\n",
       "      <td>Online Education Platform</td>\n",
       "      <td>NaN</td>\n",
       "      <td>Mumbai</td>\n",
       "      <td>Rajendra Gogri,\\\\xc2\\\\xa0 Chandrakant Gogri</td>\n",
       "      <td>Seed Funding</td>\n",
       "      <td>20,00,000</td>\n",
       "    </tr>\n",
       "    <tr>\n",
       "      <th>2831</th>\n",
       "      <td>2832</td>\n",
       "      <td>13/04.2015</td>\n",
       "      <td>The Porter</td>\n",
       "      <td>Logistics Tech</td>\n",
       "      <td>NaN</td>\n",
       "      <td>Mumbai</td>\n",
       "      <td>Kae Capital</td>\n",
       "      <td>Seed Funding</td>\n",
       "      <td>5,00,000</td>\n",
       "    </tr>\n",
       "    <tr>\n",
       "      <th>3011</th>\n",
       "      <td>3012</td>\n",
       "      <td>15/01.2015</td>\n",
       "      <td>Wishberry</td>\n",
       "      <td>NaN</td>\n",
       "      <td>NaN</td>\n",
       "      <td>NaN</td>\n",
       "      <td>Rajan Anandan, Shankar Mahadevan, Deep Kalra &amp;...</td>\n",
       "      <td>Seed Funding</td>\n",
       "      <td>6,50,000</td>\n",
       "    </tr>\n",
       "    <tr>\n",
       "      <th>3029</th>\n",
       "      <td>3030</td>\n",
       "      <td>22/01//2015</td>\n",
       "      <td>Corporate360</td>\n",
       "      <td>NaN</td>\n",
       "      <td>NaN</td>\n",
       "      <td>NaN</td>\n",
       "      <td>Group of Angel Investors</td>\n",
       "      <td>Seed Funding</td>\n",
       "      <td>2,00,000</td>\n",
       "    </tr>\n",
       "  </tbody>\n",
       "</table>\n",
       "</div>"
      ],
      "text/plain": [
       "      Sr No         Funding Date                  Startup Name  \\\n",
       "192     193            05/072018                      Loan Tap   \n",
       "2571   2572            01/07/015                     HandyHome   \n",
       "2606   2607  \\\\xc2\\\\xa010/7/2015  \\\\xc2\\\\xa0Infinity Assurance   \n",
       "2775   2776           12/05.2015                      Mobiefit   \n",
       "2776   2777           12/05.2015                      Plancess   \n",
       "2831   2832           13/04.2015                    The Porter   \n",
       "3011   3012           15/01.2015                     Wishberry   \n",
       "3029   3030          22/01//2015                  Corporate360   \n",
       "\n",
       "                                      Industry Vertical  \\\n",
       "192                                   Consumer Internet   \n",
       "2571              Hyperlocal Electronics repair Service   \n",
       "2606  \\\\xc2\\\\xa0Warranty Programs Service Administra...   \n",
       "2775                                 Mobile Fitness App   \n",
       "2776                          Online Education Platform   \n",
       "2831                                     Logistics Tech   \n",
       "3011                                                NaN   \n",
       "3029                                                NaN   \n",
       "\n",
       "                                            SubVertical       City  Location  \\\n",
       "192   Online Lending Platform For Salaried Professio...               Mumbai   \n",
       "2571                                                NaN               Mumbai   \n",
       "2606                                                NaN  \\\\xc2\\\\xa0New Delhi   \n",
       "2775                                                NaN                  Goa   \n",
       "2776                                                NaN               Mumbai   \n",
       "2831                                                NaN               Mumbai   \n",
       "3011                                                NaN                  NaN   \n",
       "3029                                                NaN                  NaN   \n",
       "\n",
       "                                         Investors Name Investment Type  \\\n",
       "192   Shunwei Capital, Tuscan Ventures, Ashish Goenk...  Private Equity   \n",
       "2571                     Bessemer Ventures, Kae Capital    Seed Funding   \n",
       "2606                     \\\\xc2\\\\xa0Indian Angel Network    Seed Funding   \n",
       "2775                                          Prototyze    Seed Funding   \n",
       "2776        Rajendra Gogri,\\\\xc2\\\\xa0 Chandrakant Gogri    Seed Funding   \n",
       "2831                                        Kae Capital    Seed Funding   \n",
       "3011  Rajan Anandan, Shankar Mahadevan, Deep Kalra &...    Seed Funding   \n",
       "3029                           Group of Angel Investors    Seed Funding   \n",
       "\n",
       "          Amount in USD  \n",
       "192           62,50,000  \n",
       "2571           6,30,000  \n",
       "2606  \\\\xc2\\\\xa0600,000  \n",
       "2775                NaN  \n",
       "2776          20,00,000  \n",
       "2831           5,00,000  \n",
       "3011           6,50,000  \n",
       "3029           2,00,000  "
      ]
     },
     "execution_count": 65,
     "metadata": {},
     "output_type": "execute_result"
    }
   ],
   "source": [
    "#Detect Invalid Date Value\n",
    "invalid_values = data[pd.to_datetime(data['Funding Date'], format='%d/%m/%Y', errors='coerce').isna()]\n",
    "invalid_values"
   ]
  },
  {
   "cell_type": "code",
   "execution_count": 66,
   "id": "2ab770e9",
   "metadata": {},
   "outputs": [
    {
     "name": "stdout",
     "output_type": "stream",
     "text": [
      "#of conformaty problem is: 8 rows\n"
     ]
    }
   ],
   "source": [
    "print('#of conformaty problem is:', len(invalid_values),'rows')"
   ]
  },
  {
   "cell_type": "code",
   "execution_count": 67,
   "id": "b35e0c12",
   "metadata": {},
   "outputs": [],
   "source": [
    "#Replace to valid fomatted values\n",
    "data.loc[192,'Funding Date'] = '05/07/2018'\n",
    "data.loc[2571,'Funding Date'] = '01/07/2015'\n",
    "data.loc[3029,'Funding Date'] = '22/01/2015'\n",
    "data.loc[2606,'Funding Date'] = '10/07/2015'"
   ]
  },
  {
   "cell_type": "code",
   "execution_count": 68,
   "id": "71a3c8d4",
   "metadata": {
    "scrolled": true
   },
   "outputs": [
    {
     "data": {
      "text/html": [
       "<div>\n",
       "<style scoped>\n",
       "    .dataframe tbody tr th:only-of-type {\n",
       "        vertical-align: middle;\n",
       "    }\n",
       "\n",
       "    .dataframe tbody tr th {\n",
       "        vertical-align: top;\n",
       "    }\n",
       "\n",
       "    .dataframe thead th {\n",
       "        text-align: right;\n",
       "    }\n",
       "</style>\n",
       "<table border=\"1\" class=\"dataframe\">\n",
       "  <thead>\n",
       "    <tr style=\"text-align: right;\">\n",
       "      <th></th>\n",
       "      <th>Sr No</th>\n",
       "      <th>Funding Date</th>\n",
       "      <th>Startup Name</th>\n",
       "      <th>Industry Vertical</th>\n",
       "      <th>SubVertical</th>\n",
       "      <th>City  Location</th>\n",
       "      <th>Investors Name</th>\n",
       "      <th>Investment Type</th>\n",
       "      <th>Amount in USD</th>\n",
       "    </tr>\n",
       "  </thead>\n",
       "  <tbody>\n",
       "    <tr>\n",
       "      <th>0</th>\n",
       "      <td>1</td>\n",
       "      <td>2020-01-09</td>\n",
       "      <td>BYJU’S</td>\n",
       "      <td>E-Tech</td>\n",
       "      <td>E-learning</td>\n",
       "      <td>Bengaluru</td>\n",
       "      <td>Tiger Global Management</td>\n",
       "      <td>Private Equity Round</td>\n",
       "      <td>20,00,00,000</td>\n",
       "    </tr>\n",
       "    <tr>\n",
       "      <th>1</th>\n",
       "      <td>2</td>\n",
       "      <td>2020-01-13</td>\n",
       "      <td>Shuttl</td>\n",
       "      <td>Transportation</td>\n",
       "      <td>App based shuttle service</td>\n",
       "      <td>Gurgaon</td>\n",
       "      <td>Susquehanna Growth Equity</td>\n",
       "      <td>Series C</td>\n",
       "      <td>80,48,394</td>\n",
       "    </tr>\n",
       "    <tr>\n",
       "      <th>2</th>\n",
       "      <td>3</td>\n",
       "      <td>2020-01-09</td>\n",
       "      <td>Mamaearth</td>\n",
       "      <td>E-commerce</td>\n",
       "      <td>Retailer of baby and toddler products</td>\n",
       "      <td>Bengaluru</td>\n",
       "      <td>Sequoia Capital India</td>\n",
       "      <td>Series B</td>\n",
       "      <td>1,83,58,860</td>\n",
       "    </tr>\n",
       "    <tr>\n",
       "      <th>3</th>\n",
       "      <td>4</td>\n",
       "      <td>2020-01-02</td>\n",
       "      <td>https://www.wealthbucket.in/</td>\n",
       "      <td>FinTech</td>\n",
       "      <td>Online Investment</td>\n",
       "      <td>New Delhi</td>\n",
       "      <td>Vinod Khatumal</td>\n",
       "      <td>Pre-series A</td>\n",
       "      <td>30,00,000</td>\n",
       "    </tr>\n",
       "    <tr>\n",
       "      <th>4</th>\n",
       "      <td>5</td>\n",
       "      <td>2020-01-02</td>\n",
       "      <td>Fashor</td>\n",
       "      <td>Fashion and Apparel</td>\n",
       "      <td>Embroiled Clothes For Women</td>\n",
       "      <td>Mumbai</td>\n",
       "      <td>Sprout Venture Partners</td>\n",
       "      <td>Seed Round</td>\n",
       "      <td>18,00,000</td>\n",
       "    </tr>\n",
       "  </tbody>\n",
       "</table>\n",
       "</div>"
      ],
      "text/plain": [
       "   Sr No Funding Date                  Startup Name    Industry Vertical  \\\n",
       "0      1   2020-01-09                        BYJU’S               E-Tech   \n",
       "1      2   2020-01-13                        Shuttl       Transportation   \n",
       "2      3   2020-01-09                     Mamaearth           E-commerce   \n",
       "3      4   2020-01-02  https://www.wealthbucket.in/              FinTech   \n",
       "4      5   2020-01-02                        Fashor  Fashion and Apparel   \n",
       "\n",
       "                             SubVertical City  Location  \\\n",
       "0                             E-learning      Bengaluru   \n",
       "1              App based shuttle service        Gurgaon   \n",
       "2  Retailer of baby and toddler products      Bengaluru   \n",
       "3                      Online Investment      New Delhi   \n",
       "4            Embroiled Clothes For Women         Mumbai   \n",
       "\n",
       "              Investors Name       Investment Type Amount in USD  \n",
       "0    Tiger Global Management  Private Equity Round  20,00,00,000  \n",
       "1  Susquehanna Growth Equity              Series C     80,48,394  \n",
       "2      Sequoia Capital India              Series B   1,83,58,860  \n",
       "3             Vinod Khatumal          Pre-series A     30,00,000  \n",
       "4    Sprout Venture Partners            Seed Round     18,00,000  "
      ]
     },
     "execution_count": 68,
     "metadata": {},
     "output_type": "execute_result"
    }
   ],
   "source": [
    "#Change data type \n",
    "data['Funding Date'] = pd.to_datetime(data['Funding Date'], dayfirst=True, errors='coerce')\n",
    "data.head()"
   ]
  },
  {
   "cell_type": "markdown",
   "id": "acc42212",
   "metadata": {},
   "source": [
    "### 3. Startup Name"
   ]
  },
  {
   "cell_type": "markdown",
   "id": "617c318c",
   "metadata": {},
   "source": [
    "Incompleteness Problem"
   ]
  },
  {
   "cell_type": "code",
   "execution_count": 69,
   "id": "1e66bcca",
   "metadata": {},
   "outputs": [
    {
     "data": {
      "text/plain": [
       "False"
      ]
     },
     "execution_count": 69,
     "metadata": {},
     "output_type": "execute_result"
    }
   ],
   "source": [
    "data['Startup Name'].isnull().any()"
   ]
  },
  {
   "cell_type": "code",
   "execution_count": 72,
   "id": "042c6571",
   "metadata": {},
   "outputs": [
    {
     "data": {
      "text/html": [
       "<div>\n",
       "<style scoped>\n",
       "    .dataframe tbody tr th:only-of-type {\n",
       "        vertical-align: middle;\n",
       "    }\n",
       "\n",
       "    .dataframe tbody tr th {\n",
       "        vertical-align: top;\n",
       "    }\n",
       "\n",
       "    .dataframe thead th {\n",
       "        text-align: right;\n",
       "    }\n",
       "</style>\n",
       "<table border=\"1\" class=\"dataframe\">\n",
       "  <thead>\n",
       "    <tr style=\"text-align: right;\">\n",
       "      <th></th>\n",
       "      <th>Sr No</th>\n",
       "      <th>Funding Date</th>\n",
       "      <th>Startup Name</th>\n",
       "      <th>Industry Vertical</th>\n",
       "      <th>SubVertical</th>\n",
       "      <th>City  Location</th>\n",
       "      <th>Investors Name</th>\n",
       "      <th>Investment Type</th>\n",
       "      <th>Amount in USD</th>\n",
       "    </tr>\n",
       "  </thead>\n",
       "  <tbody>\n",
       "    <tr>\n",
       "      <th>3</th>\n",
       "      <td>4</td>\n",
       "      <td>2020-01-02</td>\n",
       "      <td>https://www.wealthbucket.in/</td>\n",
       "      <td>FinTech</td>\n",
       "      <td>Online Investment</td>\n",
       "      <td>New Delhi</td>\n",
       "      <td>Vinod Khatumal</td>\n",
       "      <td>Pre-series A</td>\n",
       "      <td>30,00,000</td>\n",
       "    </tr>\n",
       "  </tbody>\n",
       "</table>\n",
       "</div>"
      ],
      "text/plain": [
       "   Sr No Funding Date                  Startup Name Industry Vertical  \\\n",
       "3      4   2020-01-02  https://www.wealthbucket.in/           FinTech   \n",
       "\n",
       "         SubVertical City  Location  Investors Name Investment Type  \\\n",
       "3  Online Investment      New Delhi  Vinod Khatumal    Pre-series A   \n",
       "\n",
       "  Amount in USD  \n",
       "3     30,00,000  "
      ]
     },
     "execution_count": 72,
     "metadata": {},
     "output_type": "execute_result"
    }
   ],
   "source": [
    "#Supposed that any rows having 'www' are invalid values, since they're links\n",
    "data[data['Startup Name'].str.contains('www')]"
   ]
  },
  {
   "cell_type": "code",
   "execution_count": 73,
   "id": "f784167b",
   "metadata": {},
   "outputs": [],
   "source": [
    "#Replace value\n",
    "data.loc[3,'Startup Name'] = 'Wealth Bucket'"
   ]
  },
  {
   "cell_type": "markdown",
   "id": "b9da7eda",
   "metadata": {},
   "source": [
    "### 4.Industry Vertical Column"
   ]
  },
  {
   "cell_type": "code",
   "execution_count": 78,
   "id": "f589a7ea",
   "metadata": {
    "scrolled": true
   },
   "outputs": [
    {
     "name": "stdout",
     "output_type": "stream",
     "text": [
      "#of Incompeteness Problem: 3044 rows\n"
     ]
    }
   ],
   "source": [
    "print('#of Incompeteness Problem:', len(data['Industry Vertical'].isnull()), 'rows')"
   ]
  },
  {
   "cell_type": "markdown",
   "id": "8e8fa00f",
   "metadata": {},
   "source": [
    "### 5. SubVertical Column"
   ]
  },
  {
   "cell_type": "code",
   "execution_count": 92,
   "id": "02c9c31e",
   "metadata": {},
   "outputs": [
    {
     "name": "stdout",
     "output_type": "stream",
     "text": [
      "#of Incompeteness Problem: 3044 rows\n"
     ]
    }
   ],
   "source": [
    "print('#of Incompeteness Problem:', len(data['SubVertical'].isnull()), 'rows')"
   ]
  },
  {
   "cell_type": "markdown",
   "id": "a9aef55d",
   "metadata": {},
   "source": [
    "### 6. City Location Column"
   ]
  },
  {
   "cell_type": "code",
   "execution_count": 97,
   "id": "8945dd54",
   "metadata": {},
   "outputs": [],
   "source": [
    "# I realized there're 2 tabs (2 spaces) among City Location name by this function:\n",
    "data.columns\n",
    "## I'll change it:\n",
    "data = data.rename(columns={'City  Location': 'City Location'})"
   ]
  },
  {
   "cell_type": "code",
   "execution_count": 99,
   "id": "4d6c5669",
   "metadata": {},
   "outputs": [
    {
     "name": "stdout",
     "output_type": "stream",
     "text": [
      "#of Incompeteness Problem: 3044 rows\n"
     ]
    }
   ],
   "source": [
    "print('#of Incompeteness Problem:', len(data['City Location'].isnull()), 'rows')"
   ]
  },
  {
   "cell_type": "markdown",
   "id": "d3f187a9",
   "metadata": {},
   "source": [
    "### 7. Investors Name"
   ]
  },
  {
   "cell_type": "code",
   "execution_count": 112,
   "id": "df4cac3f",
   "metadata": {},
   "outputs": [
    {
     "name": "stdout",
     "output_type": "stream",
     "text": [
      "#of Incompeteness Problem: 3044 rows\n"
     ]
    }
   ],
   "source": [
    "print('#of Incompeteness Problem:', len(data['Investors Name'].isnull()), 'rows')"
   ]
  },
  {
   "cell_type": "markdown",
   "id": "f0ce09b4",
   "metadata": {},
   "source": [
    "### 8. Investment Type Column"
   ]
  },
  {
   "cell_type": "code",
   "execution_count": 115,
   "id": "fba08faa",
   "metadata": {},
   "outputs": [
    {
     "name": "stdout",
     "output_type": "stream",
     "text": [
      "#of Incompeteness Problem: 3044 rows\n"
     ]
    }
   ],
   "source": [
    "print('#of Incompeteness Problem:', len(data['Investors Name'].isnull()), 'rows')"
   ]
  },
  {
   "cell_type": "markdown",
   "id": "761e960d",
   "metadata": {},
   "source": [
    "### 9. Amount in USD"
   ]
  },
  {
   "cell_type": "code",
   "execution_count": 140,
   "id": "c1110c57",
   "metadata": {},
   "outputs": [],
   "source": [
    "#Removed unpropriate characters in money values\n",
    "data['Amount in USD'] = data['Amount in USD'].replace('\\W','', regex=True)"
   ]
  },
  {
   "cell_type": "markdown",
   "id": "eae39b18",
   "metadata": {},
   "source": [
    "Incompleteness Problem"
   ]
  },
  {
   "cell_type": "code",
   "execution_count": 146,
   "id": "5ac5dca1",
   "metadata": {},
   "outputs": [
    {
     "name": "stdout",
     "output_type": "stream",
     "text": [
      "#of ivalid amount: 978 rows\n"
     ]
    }
   ],
   "source": [
    "print('#of ivalid amount:', len(invalid_amount), 'rows')"
   ]
  },
  {
   "cell_type": "code",
   "execution_count": 191,
   "id": "cb9ce8c6",
   "metadata": {},
   "outputs": [
    {
     "name": "stdout",
     "output_type": "stream",
     "text": [
      "Percentage of Incompleness: 75.33 %\n"
     ]
    }
   ],
   "source": [
    "print('Percentage of Incompleness:', round(data.isnull().sum().sum()*100/len(data),2),'%')"
   ]
  },
  {
   "cell_type": "code",
   "execution_count": 196,
   "id": "905c1966",
   "metadata": {},
   "outputs": [],
   "source": [
    "#export data\n",
    "data.to_csv('startup_fund_cleaned.csv')"
   ]
  },
  {
   "cell_type": "code",
   "execution_count": 199,
   "id": "d9a3ec46",
   "metadata": {},
   "outputs": [
    {
     "data": {
      "text/plain": [
       "'C:\\\\Users\\\\Admin'"
      ]
     },
     "execution_count": 199,
     "metadata": {},
     "output_type": "execute_result"
    }
   ],
   "source": [
    "import os\n",
    "os.getcwd()"
   ]
  }
 ],
 "metadata": {
  "kernelspec": {
   "display_name": "Python 3 (ipykernel)",
   "language": "python",
   "name": "python3"
  },
  "language_info": {
   "codemirror_mode": {
    "name": "ipython",
    "version": 3
   },
   "file_extension": ".py",
   "mimetype": "text/x-python",
   "name": "python",
   "nbconvert_exporter": "python",
   "pygments_lexer": "ipython3",
   "version": "3.9.13"
  }
 },
 "nbformat": 4,
 "nbformat_minor": 5
}
